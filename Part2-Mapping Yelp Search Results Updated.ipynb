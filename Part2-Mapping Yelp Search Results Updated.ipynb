{
 "cells": [
  {
   "cell_type": "markdown",
   "id": "c6d4c9a7",
   "metadata": {
    "id": "8guYh-VR7nlX"
   },
   "source": [
    "# Part 2 - Mapping Yelp Search Results"
   ]
  },
  {
   "cell_type": "markdown",
   "id": "9be6e6c0",
   "metadata": {},
   "source": []
  },
  {
   "cell_type": "markdown",
   "id": "8f1dfbbf",
   "metadata": {},
   "source": [
    "## Obective"
   ]
  },
  {
   "cell_type": "markdown",
   "id": "37daea31",
   "metadata": {
    "id": "8guYh-VR7nlX"
   },
   "source": [
    "- For this CodeAlong, we will be working with the Yelp API results from last class. \n",
    "- You will load in the .csv.gz of your yelp results and prepare the data for visualization.\n",
    "- You will use Plotly Express to create an interactive map with all of the results."
   ]
  },
  {
   "cell_type": "markdown",
   "id": "0a02a2fd",
   "metadata": {
    "id": "8guYh-VR7nlX"
   },
   "source": [
    "## Tools You Will Use\n",
    "- Part 1:\n",
    "    - Yelp API:\n",
    "        - Getting Started: \n",
    "            - https://www.yelp.com/developers/documentation/v3/get_started\n",
    "\n",
    "    - `YelpAPI` python package\n",
    "        -  \"YelpAPI\": https://github.com/gfairchild/yelpapi\n",
    "- Part 2:\n",
    "\n",
    "    - Plotly Express: https://plotly.com/python/getting-started/\n",
    "        - With Mapbox API: https://www.mapbox.com/\n",
    "        - `px.scatter_mapbox` [Documentation](https://plotly.com/python/scattermapbox/): \n",
    "\n",
    "\n"
   ]
  },
  {
   "cell_type": "markdown",
   "id": "a3f15049",
   "metadata": {},
   "source": [
    "### Applying Code From\n",
    "- [Advanced Transformations with Pandas - Part 1](https://login.codingdojo.com/m/376/12529/88086)\n",
    "- [Advanced Transformations with Pandas - Part 2](https://login.codingdojo.com/m/376/12529/88088)"
   ]
  },
  {
   "cell_type": "markdown",
   "id": "745e757f",
   "metadata": {},
   "source": [
    "### Goal"
   ]
  },
  {
   "cell_type": "markdown",
   "id": "a27ea8f9",
   "metadata": {},
   "source": [
    "- We want to create a map with every restaurant plotted as a scatter plot with detailed information that appears when we hover over a business\n",
    "- We will use plotly express's `px.scatter_mapbox` function to accomplish this.\n",
    "    - https://plotly.com/python/scattermapbox/\n",
    "    \n",
    "    - Some of the options require a Mapbox API token:\n",
    "    - However, we will be using the options that DO NOT require a token.\n",
    "        - https://studio.mapbox.com/\n",
    "    "
   ]
  },
  {
   "cell_type": "markdown",
   "id": "8c50b2b6",
   "metadata": {},
   "source": [
    "# Loading Data from Part 1"
   ]
  },
  {
   "cell_type": "code",
   "execution_count": 1,
   "id": "ffa40ba8",
   "metadata": {},
   "outputs": [
    {
     "name": "stdout",
     "output_type": "stream",
     "text": [
      "Requirement already satisfied: plotly in /opt/homebrew/Caskroom/miniforge/base/envs/dojo-env/lib/python3.9/site-packages (5.11.0)\r\n",
      "Requirement already satisfied: tenacity>=6.2.0 in /opt/homebrew/Caskroom/miniforge/base/envs/dojo-env/lib/python3.9/site-packages (from plotly) (8.2.2)\r\n"
     ]
    }
   ],
   "source": [
    "## Plotly is not included in your dojo-env\n",
    "!pip install plotly"
   ]
  },
  {
   "cell_type": "code",
   "execution_count": 2,
   "id": "6c26b323",
   "metadata": {},
   "outputs": [],
   "source": [
    "# Standard Imports\n",
    "import numpy as np\n",
    "import pandas as pd\n",
    "import matplotlib.pyplot as plt\n",
    "import seaborn as sns\n",
    "\n",
    "import json\n",
    "\n",
    "## importing plotly \n",
    "import plotly.express as px"
   ]
  },
  {
   "cell_type": "code",
   "execution_count": 11,
   "id": "73f882e7",
   "metadata": {},
   "outputs": [
    {
     "data": {
      "text/html": [
       "<div>\n",
       "<style scoped>\n",
       "    .dataframe tbody tr th:only-of-type {\n",
       "        vertical-align: middle;\n",
       "    }\n",
       "\n",
       "    .dataframe tbody tr th {\n",
       "        vertical-align: top;\n",
       "    }\n",
       "\n",
       "    .dataframe thead th {\n",
       "        text-align: right;\n",
       "    }\n",
       "</style>\n",
       "<table border=\"1\" class=\"dataframe\">\n",
       "  <thead>\n",
       "    <tr style=\"text-align: right;\">\n",
       "      <th></th>\n",
       "      <th>id</th>\n",
       "      <th>alias</th>\n",
       "      <th>name</th>\n",
       "      <th>image_url</th>\n",
       "      <th>is_closed</th>\n",
       "      <th>url</th>\n",
       "      <th>review_count</th>\n",
       "      <th>categories</th>\n",
       "      <th>rating</th>\n",
       "      <th>coordinates</th>\n",
       "      <th>transactions</th>\n",
       "      <th>location</th>\n",
       "      <th>phone</th>\n",
       "      <th>display_phone</th>\n",
       "      <th>distance</th>\n",
       "      <th>price</th>\n",
       "    </tr>\n",
       "  </thead>\n",
       "  <tbody>\n",
       "    <tr>\n",
       "      <th>0</th>\n",
       "      <td>ULg5fU6JTOCx4va9eUpjTQ</td>\n",
       "      <td>pizza-pushers-algonquin</td>\n",
       "      <td>Pizza Pushers</td>\n",
       "      <td>https://s3-media1.fl.yelpcdn.com/bphoto/Cs5k7Y...</td>\n",
       "      <td>False</td>\n",
       "      <td>https://www.yelp.com/biz/pizza-pushers-algonqu...</td>\n",
       "      <td>21</td>\n",
       "      <td>[{'alias': 'pizza', 'title': 'Pizza'}]</td>\n",
       "      <td>4.5</td>\n",
       "      <td>{'latitude': 42.16317, 'longitude': -88.29628}</td>\n",
       "      <td>[]</td>\n",
       "      <td>{'address1': '644 S Main St', 'address2': '', ...</td>\n",
       "      <td>NaN</td>\n",
       "      <td>NaN</td>\n",
       "      <td>1826.303215</td>\n",
       "      <td>NaN</td>\n",
       "    </tr>\n",
       "    <tr>\n",
       "      <th>1</th>\n",
       "      <td>4pCvjmcFZMyPUIBqWsls2A</td>\n",
       "      <td>sals-pizza-company-algonquin</td>\n",
       "      <td>Sal's Pizza Company</td>\n",
       "      <td>https://s3-media2.fl.yelpcdn.com/bphoto/X5SBNj...</td>\n",
       "      <td>False</td>\n",
       "      <td>https://www.yelp.com/biz/sals-pizza-company-al...</td>\n",
       "      <td>208</td>\n",
       "      <td>[{'alias': 'pizza', 'title': 'Pizza'}]</td>\n",
       "      <td>4.5</td>\n",
       "      <td>{'latitude': 42.176214, 'longitude': -88.31533}</td>\n",
       "      <td>['delivery']</td>\n",
       "      <td>{'address1': '5 Hanson Rd', 'address2': '', 'a...</td>\n",
       "      <td>1.847659e+10</td>\n",
       "      <td>(847) 658-7272</td>\n",
       "      <td>1451.881180</td>\n",
       "      <td>$$</td>\n",
       "    </tr>\n",
       "    <tr>\n",
       "      <th>2</th>\n",
       "      <td>2Hzt_Z8SXBsDiOu2vWP0Kg</td>\n",
       "      <td>uncle-jerry-s-pizza-company-cary</td>\n",
       "      <td>Uncle Jerry’s Pizza Company</td>\n",
       "      <td>https://s3-media2.fl.yelpcdn.com/bphoto/8Jlb3l...</td>\n",
       "      <td>False</td>\n",
       "      <td>https://www.yelp.com/biz/uncle-jerry-s-pizza-c...</td>\n",
       "      <td>106</td>\n",
       "      <td>[{'alias': 'pizza', 'title': 'Pizza'}]</td>\n",
       "      <td>4.5</td>\n",
       "      <td>{'latitude': 42.20837, 'longitude': -88.24259}</td>\n",
       "      <td>[]</td>\n",
       "      <td>{'address1': '133 W Main St', 'address2': '', ...</td>\n",
       "      <td>1.224889e+10</td>\n",
       "      <td>(224) 888-8663</td>\n",
       "      <td>8016.547087</td>\n",
       "      <td>$$</td>\n",
       "    </tr>\n",
       "    <tr>\n",
       "      <th>3</th>\n",
       "      <td>CftHLAdJj63kAVxYQDZehQ</td>\n",
       "      <td>dinos-pizza-and-pasta-lake-in-the-hills</td>\n",
       "      <td>Dino's Pizza &amp; Pasta</td>\n",
       "      <td>https://s3-media3.fl.yelpcdn.com/bphoto/bpeElv...</td>\n",
       "      <td>False</td>\n",
       "      <td>https://www.yelp.com/biz/dinos-pizza-and-pasta...</td>\n",
       "      <td>67</td>\n",
       "      <td>[{'alias': 'pizza', 'title': 'Pizza'}, {'alias...</td>\n",
       "      <td>4.0</td>\n",
       "      <td>{'latitude': 42.190623, 'longitude': -88.331221}</td>\n",
       "      <td>['pickup', 'delivery']</td>\n",
       "      <td>{'address1': '6 Miller Rd', 'address2': '', 'a...</td>\n",
       "      <td>1.847658e+10</td>\n",
       "      <td>(847) 658-3300</td>\n",
       "      <td>3210.464471</td>\n",
       "      <td>$</td>\n",
       "    </tr>\n",
       "    <tr>\n",
       "      <th>4</th>\n",
       "      <td>sYwBAWlDCRe582S4ZfgKQg</td>\n",
       "      <td>woodfire-dundee-west-dundee-2</td>\n",
       "      <td>Woodfire Dundee</td>\n",
       "      <td>https://s3-media2.fl.yelpcdn.com/bphoto/UQrsVC...</td>\n",
       "      <td>False</td>\n",
       "      <td>https://www.yelp.com/biz/woodfire-dundee-west-...</td>\n",
       "      <td>130</td>\n",
       "      <td>[{'alias': 'pizza', 'title': 'Pizza'}, {'alias...</td>\n",
       "      <td>4.5</td>\n",
       "      <td>{'latitude': 42.0979661656296, 'longitude': -8...</td>\n",
       "      <td>['delivery']</td>\n",
       "      <td>{'address1': '127 W Main St', 'address2': '', ...</td>\n",
       "      <td>1.847844e+10</td>\n",
       "      <td>(847) 844-0886</td>\n",
       "      <td>7987.399488</td>\n",
       "      <td>$$</td>\n",
       "    </tr>\n",
       "    <tr>\n",
       "      <th>...</th>\n",
       "      <td>...</td>\n",
       "      <td>...</td>\n",
       "      <td>...</td>\n",
       "      <td>...</td>\n",
       "      <td>...</td>\n",
       "      <td>...</td>\n",
       "      <td>...</td>\n",
       "      <td>...</td>\n",
       "      <td>...</td>\n",
       "      <td>...</td>\n",
       "      <td>...</td>\n",
       "      <td>...</td>\n",
       "      <td>...</td>\n",
       "      <td>...</td>\n",
       "      <td>...</td>\n",
       "      <td>...</td>\n",
       "    </tr>\n",
       "    <tr>\n",
       "      <th>372</th>\n",
       "      <td>DTc25oxDLvxJeV3wWWyFZQ</td>\n",
       "      <td>chilis-streamwood-3</td>\n",
       "      <td>Chili's</td>\n",
       "      <td>https://s3-media2.fl.yelpcdn.com/bphoto/0bqITS...</td>\n",
       "      <td>False</td>\n",
       "      <td>https://www.yelp.com/biz/chilis-streamwood-3?a...</td>\n",
       "      <td>82</td>\n",
       "      <td>[{'alias': 'tex-mex', 'title': 'Tex-Mex'}, {'a...</td>\n",
       "      <td>3.0</td>\n",
       "      <td>{'latitude': 42.015895470264, 'longitude': -88...</td>\n",
       "      <td>['pickup', 'delivery']</td>\n",
       "      <td>{'address1': '1041 Sutton Rd', 'address2': Non...</td>\n",
       "      <td>1.630483e+10</td>\n",
       "      <td>(630) 483-2352</td>\n",
       "      <td>18984.729695</td>\n",
       "      <td>$$</td>\n",
       "    </tr>\n",
       "    <tr>\n",
       "      <th>373</th>\n",
       "      <td>BAdDevvE7YYAdMe0BwSXtA</td>\n",
       "      <td>arbys-streamwood</td>\n",
       "      <td>Arby's</td>\n",
       "      <td>https://s3-media4.fl.yelpcdn.com/bphoto/TfsNxG...</td>\n",
       "      <td>False</td>\n",
       "      <td>https://www.yelp.com/biz/arbys-streamwood?adju...</td>\n",
       "      <td>21</td>\n",
       "      <td>[{'alias': 'hotdogs', 'title': 'Fast Food'}, {...</td>\n",
       "      <td>3.0</td>\n",
       "      <td>{'latitude': 42.0214042663574, 'longitude': -8...</td>\n",
       "      <td>['pickup', 'delivery']</td>\n",
       "      <td>{'address1': '520 S Sutton Rd', 'address2': No...</td>\n",
       "      <td>1.630498e+10</td>\n",
       "      <td>(630) 497-9109</td>\n",
       "      <td>18413.883793</td>\n",
       "      <td>$</td>\n",
       "    </tr>\n",
       "    <tr>\n",
       "      <th>374</th>\n",
       "      <td>PmEmQoPGkQKvd7B6JdCmpQ</td>\n",
       "      <td>taco-bell-elgin-3</td>\n",
       "      <td>Taco Bell</td>\n",
       "      <td>https://s3-media2.fl.yelpcdn.com/bphoto/y8XHZD...</td>\n",
       "      <td>False</td>\n",
       "      <td>https://www.yelp.com/biz/taco-bell-elgin-3?adj...</td>\n",
       "      <td>25</td>\n",
       "      <td>[{'alias': 'mexican', 'title': 'Mexican'}, {'a...</td>\n",
       "      <td>2.0</td>\n",
       "      <td>{'latitude': 42.023532, 'longitude': -88.311785}</td>\n",
       "      <td>['pickup', 'delivery']</td>\n",
       "      <td>{'address1': '304 South McLean Blvd', 'address...</td>\n",
       "      <td>1.847608e+10</td>\n",
       "      <td>(847) 608-0842</td>\n",
       "      <td>15557.446433</td>\n",
       "      <td>$</td>\n",
       "    </tr>\n",
       "    <tr>\n",
       "      <th>375</th>\n",
       "      <td>es-46dK1zT2kYV6V-BfzxQ</td>\n",
       "      <td>apple-villa-cafe-hoffman-estates</td>\n",
       "      <td>Apple Villa Cafe</td>\n",
       "      <td>https://s3-media4.fl.yelpcdn.com/bphoto/zaI92C...</td>\n",
       "      <td>False</td>\n",
       "      <td>https://www.yelp.com/biz/apple-villa-cafe-hoff...</td>\n",
       "      <td>230</td>\n",
       "      <td>[{'alias': 'breakfast_brunch', 'title': 'Break...</td>\n",
       "      <td>3.5</td>\n",
       "      <td>{'latitude': 42.079257, 'longitude': -88.140138}</td>\n",
       "      <td>['pickup', 'delivery']</td>\n",
       "      <td>{'address1': '3101 N Barrington Rd', 'address2...</td>\n",
       "      <td>1.847765e+10</td>\n",
       "      <td>(847) 765-2000</td>\n",
       "      <td>17424.771196</td>\n",
       "      <td>$$</td>\n",
       "    </tr>\n",
       "    <tr>\n",
       "      <th>376</th>\n",
       "      <td>O5ZltApu7Xq7umLZ4pXCTg</td>\n",
       "      <td>golden-corral-buffet-and-grill-elgin</td>\n",
       "      <td>Golden Corral Buffet &amp; Grill</td>\n",
       "      <td>https://s3-media4.fl.yelpcdn.com/bphoto/ICq_0O...</td>\n",
       "      <td>False</td>\n",
       "      <td>https://www.yelp.com/biz/golden-corral-buffet-...</td>\n",
       "      <td>91</td>\n",
       "      <td>[{'alias': 'buffets', 'title': 'Buffets'}, {'a...</td>\n",
       "      <td>2.0</td>\n",
       "      <td>{'latitude': 42.0193983926583, 'longitude': -8...</td>\n",
       "      <td>['pickup', 'delivery']</td>\n",
       "      <td>{'address1': '601 S Randall Rd', 'address2': '...</td>\n",
       "      <td>1.847532e+10</td>\n",
       "      <td>(847) 531-7277</td>\n",
       "      <td>16073.849143</td>\n",
       "      <td>$$</td>\n",
       "    </tr>\n",
       "  </tbody>\n",
       "</table>\n",
       "<p>377 rows × 16 columns</p>\n",
       "</div>"
      ],
      "text/plain": [
       "                         id                                    alias  \\\n",
       "0    ULg5fU6JTOCx4va9eUpjTQ                  pizza-pushers-algonquin   \n",
       "1    4pCvjmcFZMyPUIBqWsls2A             sals-pizza-company-algonquin   \n",
       "2    2Hzt_Z8SXBsDiOu2vWP0Kg         uncle-jerry-s-pizza-company-cary   \n",
       "3    CftHLAdJj63kAVxYQDZehQ  dinos-pizza-and-pasta-lake-in-the-hills   \n",
       "4    sYwBAWlDCRe582S4ZfgKQg            woodfire-dundee-west-dundee-2   \n",
       "..                      ...                                      ...   \n",
       "372  DTc25oxDLvxJeV3wWWyFZQ                      chilis-streamwood-3   \n",
       "373  BAdDevvE7YYAdMe0BwSXtA                         arbys-streamwood   \n",
       "374  PmEmQoPGkQKvd7B6JdCmpQ                        taco-bell-elgin-3   \n",
       "375  es-46dK1zT2kYV6V-BfzxQ         apple-villa-cafe-hoffman-estates   \n",
       "376  O5ZltApu7Xq7umLZ4pXCTg     golden-corral-buffet-and-grill-elgin   \n",
       "\n",
       "                             name  \\\n",
       "0                   Pizza Pushers   \n",
       "1             Sal's Pizza Company   \n",
       "2     Uncle Jerry’s Pizza Company   \n",
       "3            Dino's Pizza & Pasta   \n",
       "4                 Woodfire Dundee   \n",
       "..                            ...   \n",
       "372                       Chili's   \n",
       "373                        Arby's   \n",
       "374                     Taco Bell   \n",
       "375              Apple Villa Cafe   \n",
       "376  Golden Corral Buffet & Grill   \n",
       "\n",
       "                                             image_url  is_closed  \\\n",
       "0    https://s3-media1.fl.yelpcdn.com/bphoto/Cs5k7Y...      False   \n",
       "1    https://s3-media2.fl.yelpcdn.com/bphoto/X5SBNj...      False   \n",
       "2    https://s3-media2.fl.yelpcdn.com/bphoto/8Jlb3l...      False   \n",
       "3    https://s3-media3.fl.yelpcdn.com/bphoto/bpeElv...      False   \n",
       "4    https://s3-media2.fl.yelpcdn.com/bphoto/UQrsVC...      False   \n",
       "..                                                 ...        ...   \n",
       "372  https://s3-media2.fl.yelpcdn.com/bphoto/0bqITS...      False   \n",
       "373  https://s3-media4.fl.yelpcdn.com/bphoto/TfsNxG...      False   \n",
       "374  https://s3-media2.fl.yelpcdn.com/bphoto/y8XHZD...      False   \n",
       "375  https://s3-media4.fl.yelpcdn.com/bphoto/zaI92C...      False   \n",
       "376  https://s3-media4.fl.yelpcdn.com/bphoto/ICq_0O...      False   \n",
       "\n",
       "                                                   url  review_count  \\\n",
       "0    https://www.yelp.com/biz/pizza-pushers-algonqu...            21   \n",
       "1    https://www.yelp.com/biz/sals-pizza-company-al...           208   \n",
       "2    https://www.yelp.com/biz/uncle-jerry-s-pizza-c...           106   \n",
       "3    https://www.yelp.com/biz/dinos-pizza-and-pasta...            67   \n",
       "4    https://www.yelp.com/biz/woodfire-dundee-west-...           130   \n",
       "..                                                 ...           ...   \n",
       "372  https://www.yelp.com/biz/chilis-streamwood-3?a...            82   \n",
       "373  https://www.yelp.com/biz/arbys-streamwood?adju...            21   \n",
       "374  https://www.yelp.com/biz/taco-bell-elgin-3?adj...            25   \n",
       "375  https://www.yelp.com/biz/apple-villa-cafe-hoff...           230   \n",
       "376  https://www.yelp.com/biz/golden-corral-buffet-...            91   \n",
       "\n",
       "                                            categories  rating  \\\n",
       "0               [{'alias': 'pizza', 'title': 'Pizza'}]     4.5   \n",
       "1               [{'alias': 'pizza', 'title': 'Pizza'}]     4.5   \n",
       "2               [{'alias': 'pizza', 'title': 'Pizza'}]     4.5   \n",
       "3    [{'alias': 'pizza', 'title': 'Pizza'}, {'alias...     4.0   \n",
       "4    [{'alias': 'pizza', 'title': 'Pizza'}, {'alias...     4.5   \n",
       "..                                                 ...     ...   \n",
       "372  [{'alias': 'tex-mex', 'title': 'Tex-Mex'}, {'a...     3.0   \n",
       "373  [{'alias': 'hotdogs', 'title': 'Fast Food'}, {...     3.0   \n",
       "374  [{'alias': 'mexican', 'title': 'Mexican'}, {'a...     2.0   \n",
       "375  [{'alias': 'breakfast_brunch', 'title': 'Break...     3.5   \n",
       "376  [{'alias': 'buffets', 'title': 'Buffets'}, {'a...     2.0   \n",
       "\n",
       "                                           coordinates  \\\n",
       "0       {'latitude': 42.16317, 'longitude': -88.29628}   \n",
       "1      {'latitude': 42.176214, 'longitude': -88.31533}   \n",
       "2       {'latitude': 42.20837, 'longitude': -88.24259}   \n",
       "3     {'latitude': 42.190623, 'longitude': -88.331221}   \n",
       "4    {'latitude': 42.0979661656296, 'longitude': -8...   \n",
       "..                                                 ...   \n",
       "372  {'latitude': 42.015895470264, 'longitude': -88...   \n",
       "373  {'latitude': 42.0214042663574, 'longitude': -8...   \n",
       "374   {'latitude': 42.023532, 'longitude': -88.311785}   \n",
       "375   {'latitude': 42.079257, 'longitude': -88.140138}   \n",
       "376  {'latitude': 42.0193983926583, 'longitude': -8...   \n",
       "\n",
       "               transactions  \\\n",
       "0                        []   \n",
       "1              ['delivery']   \n",
       "2                        []   \n",
       "3    ['pickup', 'delivery']   \n",
       "4              ['delivery']   \n",
       "..                      ...   \n",
       "372  ['pickup', 'delivery']   \n",
       "373  ['pickup', 'delivery']   \n",
       "374  ['pickup', 'delivery']   \n",
       "375  ['pickup', 'delivery']   \n",
       "376  ['pickup', 'delivery']   \n",
       "\n",
       "                                              location         phone  \\\n",
       "0    {'address1': '644 S Main St', 'address2': '', ...           NaN   \n",
       "1    {'address1': '5 Hanson Rd', 'address2': '', 'a...  1.847659e+10   \n",
       "2    {'address1': '133 W Main St', 'address2': '', ...  1.224889e+10   \n",
       "3    {'address1': '6 Miller Rd', 'address2': '', 'a...  1.847658e+10   \n",
       "4    {'address1': '127 W Main St', 'address2': '', ...  1.847844e+10   \n",
       "..                                                 ...           ...   \n",
       "372  {'address1': '1041 Sutton Rd', 'address2': Non...  1.630483e+10   \n",
       "373  {'address1': '520 S Sutton Rd', 'address2': No...  1.630498e+10   \n",
       "374  {'address1': '304 South McLean Blvd', 'address...  1.847608e+10   \n",
       "375  {'address1': '3101 N Barrington Rd', 'address2...  1.847765e+10   \n",
       "376  {'address1': '601 S Randall Rd', 'address2': '...  1.847532e+10   \n",
       "\n",
       "      display_phone      distance price  \n",
       "0               NaN   1826.303215   NaN  \n",
       "1    (847) 658-7272   1451.881180    $$  \n",
       "2    (224) 888-8663   8016.547087    $$  \n",
       "3    (847) 658-3300   3210.464471     $  \n",
       "4    (847) 844-0886   7987.399488    $$  \n",
       "..              ...           ...   ...  \n",
       "372  (630) 483-2352  18984.729695    $$  \n",
       "373  (630) 497-9109  18413.883793     $  \n",
       "374  (847) 608-0842  15557.446433     $  \n",
       "375  (847) 765-2000  17424.771196    $$  \n",
       "376  (847) 531-7277  16073.849143    $$  \n",
       "\n",
       "[377 rows x 16 columns]"
      ]
     },
     "execution_count": 11,
     "metadata": {},
     "output_type": "execute_result"
    }
   ],
   "source": [
    "## Load in csv.gz\n",
    "\n",
    "df = pd.read_csv('Data/final_results_IL_pizza.csv.gz')\n",
    "df\n"
   ]
  },
  {
   "cell_type": "markdown",
   "id": "182d9a50",
   "metadata": {},
   "source": [
    "## Required Preprocessing "
   ]
  },
  {
   "cell_type": "markdown",
   "id": "9db8a265",
   "metadata": {},
   "source": [
    "- 1. We need to get the latitude and longitude for each business as separate columns.\n",
    "- 2. We also want to be able to show the restaurants:\n",
    "    - name\n",
    "    - price\n",
    "    - type of transactions (pickup/delivery/restaurant reservation)\n",
    "    - address"
   ]
  },
  {
   "cell_type": "markdown",
   "id": "13d541ac",
   "metadata": {},
   "source": [
    "### Separating Latitude and Longitude"
   ]
  },
  {
   "cell_type": "code",
   "execution_count": 12,
   "id": "825c85f0",
   "metadata": {},
   "outputs": [
    {
     "data": {
      "text/html": [
       "<div>\n",
       "<style scoped>\n",
       "    .dataframe tbody tr th:only-of-type {\n",
       "        vertical-align: middle;\n",
       "    }\n",
       "\n",
       "    .dataframe tbody tr th {\n",
       "        vertical-align: top;\n",
       "    }\n",
       "\n",
       "    .dataframe thead th {\n",
       "        text-align: right;\n",
       "    }\n",
       "</style>\n",
       "<table border=\"1\" class=\"dataframe\">\n",
       "  <thead>\n",
       "    <tr style=\"text-align: right;\">\n",
       "      <th></th>\n",
       "      <th>0</th>\n",
       "    </tr>\n",
       "  </thead>\n",
       "  <tbody>\n",
       "    <tr>\n",
       "      <th>0</th>\n",
       "      <td>{'latitude': 42.16317, 'longitude': -88.29628}</td>\n",
       "    </tr>\n",
       "    <tr>\n",
       "      <th>1</th>\n",
       "      <td>{'latitude': 42.176214, 'longitude': -88.31533}</td>\n",
       "    </tr>\n",
       "    <tr>\n",
       "      <th>2</th>\n",
       "      <td>{'latitude': 42.20837, 'longitude': -88.24259}</td>\n",
       "    </tr>\n",
       "    <tr>\n",
       "      <th>3</th>\n",
       "      <td>{'latitude': 42.190623, 'longitude': -88.331221}</td>\n",
       "    </tr>\n",
       "    <tr>\n",
       "      <th>4</th>\n",
       "      <td>{'latitude': 42.0979661656296, 'longitude': -8...</td>\n",
       "    </tr>\n",
       "    <tr>\n",
       "      <th>...</th>\n",
       "      <td>...</td>\n",
       "    </tr>\n",
       "    <tr>\n",
       "      <th>372</th>\n",
       "      <td>{'latitude': 42.015895470264, 'longitude': -88...</td>\n",
       "    </tr>\n",
       "    <tr>\n",
       "      <th>373</th>\n",
       "      <td>{'latitude': 42.0214042663574, 'longitude': -8...</td>\n",
       "    </tr>\n",
       "    <tr>\n",
       "      <th>374</th>\n",
       "      <td>{'latitude': 42.023532, 'longitude': -88.311785}</td>\n",
       "    </tr>\n",
       "    <tr>\n",
       "      <th>375</th>\n",
       "      <td>{'latitude': 42.079257, 'longitude': -88.140138}</td>\n",
       "    </tr>\n",
       "    <tr>\n",
       "      <th>376</th>\n",
       "      <td>{'latitude': 42.0193983926583, 'longitude': -8...</td>\n",
       "    </tr>\n",
       "  </tbody>\n",
       "</table>\n",
       "<p>377 rows × 1 columns</p>\n",
       "</div>"
      ],
      "text/plain": [
       "                                                     0\n",
       "0       {'latitude': 42.16317, 'longitude': -88.29628}\n",
       "1      {'latitude': 42.176214, 'longitude': -88.31533}\n",
       "2       {'latitude': 42.20837, 'longitude': -88.24259}\n",
       "3     {'latitude': 42.190623, 'longitude': -88.331221}\n",
       "4    {'latitude': 42.0979661656296, 'longitude': -8...\n",
       "..                                                 ...\n",
       "372  {'latitude': 42.015895470264, 'longitude': -88...\n",
       "373  {'latitude': 42.0214042663574, 'longitude': -8...\n",
       "374   {'latitude': 42.023532, 'longitude': -88.311785}\n",
       "375   {'latitude': 42.079257, 'longitude': -88.140138}\n",
       "376  {'latitude': 42.0193983926583, 'longitude': -8...\n",
       "\n",
       "[377 rows x 1 columns]"
      ]
     },
     "execution_count": 12,
     "metadata": {},
     "output_type": "execute_result"
    }
   ],
   "source": [
    "## use .apply pd.Series to convert a dict to columns\n",
    "df['coordinates'].apply(pd.Series)"
   ]
  },
  {
   "cell_type": "markdown",
   "id": "faecca22",
   "metadata": {},
   "source": [
    "- Why didn't that work???"
   ]
  },
  {
   "cell_type": "code",
   "execution_count": null,
   "id": "4c52b779",
   "metadata": {},
   "outputs": [],
   "source": [
    "## slice out a single test coordinate\n",
    "test_coord = None\n",
    "test_coord"
   ]
  },
  {
   "cell_type": "code",
   "execution_count": null,
   "id": "b823b8fa",
   "metadata": {},
   "outputs": [],
   "source": []
  },
  {
   "cell_type": "markdown",
   "id": "819d8252",
   "metadata": {},
   "source": [
    "- Its not a dictionary anymore!!! What??\n",
    "    - CSV files cant store iterables (lists, dictionaries) so they get converted to strings."
   ]
  },
  {
   "cell_type": "markdown",
   "id": "df7e7c71",
   "metadata": {},
   "source": [
    "### Fixing the String-Dictionaries"
   ]
  },
  {
   "cell_type": "markdown",
   "id": "76185b76",
   "metadata": {},
   "source": [
    "- The json module has another version of load and dump called `json.loads` and `json.dumps`\n",
    "    - These are designed to process STRINGS instead of files. \n",
    "    \n",
    "- If we use `json.loads` we can convert our `string dictionary` into an `actual dictionary`. "
   ]
  },
  {
   "cell_type": "code",
   "execution_count": null,
   "id": "8e4ab9ed",
   "metadata": {},
   "outputs": [],
   "source": [
    "## Use json.loads on the test coordinate\n"
   ]
  },
  {
   "cell_type": "markdown",
   "id": "89771042",
   "metadata": {},
   "source": [
    "### JSON requires double quotes!\n",
    "We got a `JSON Decode Error` because JSON was `expecting double quotes` inside\n",
    "of the dictionary"
   ]
  },
  {
   "cell_type": "code",
   "execution_count": null,
   "id": "d9ba73f6",
   "metadata": {},
   "outputs": [],
   "source": []
  },
  {
   "cell_type": "markdown",
   "id": "37d0f4a0",
   "metadata": {},
   "source": [
    "### We are now going to use the .replace( ) function to replace single ' with double \""
   ]
  },
  {
   "cell_type": "code",
   "execution_count": null,
   "id": "baf7b4ce",
   "metadata": {},
   "outputs": [],
   "source": [
    "## replace single ' with double \" \n"
   ]
  },
  {
   "cell_type": "code",
   "execution_count": null,
   "id": "5f87a80a",
   "metadata": {},
   "outputs": [],
   "source": [
    "## Use json.loads on the test coordinate, again\n"
   ]
  },
  {
   "cell_type": "code",
   "execution_count": null,
   "id": "46d7efc7",
   "metadata": {},
   "outputs": [],
   "source": [
    "# viewing type after using json.loads\n"
   ]
  },
  {
   "cell_type": "markdown",
   "id": "ac9a2c61",
   "metadata": {},
   "source": [
    "### Now, how can we apply this same process to the entire column??"
   ]
  },
  {
   "cell_type": "code",
   "execution_count": null,
   "id": "815d26be",
   "metadata": {},
   "outputs": [],
   "source": [
    "## replace ' with \" (entire column)\n",
    "\n",
    "## apply json.loads\n"
   ]
  },
  {
   "cell_type": "code",
   "execution_count": null,
   "id": "b417c990",
   "metadata": {},
   "outputs": [],
   "source": [
    "## slice out a single test coordinate\n"
   ]
  },
  {
   "cell_type": "code",
   "execution_count": null,
   "id": "c8ffae8a",
   "metadata": {},
   "outputs": [],
   "source": []
  },
  {
   "cell_type": "markdown",
   "id": "a825c2f4",
   "metadata": {},
   "source": [
    "### Using .apply with pd.Series to convert a dictionary column into multiple columns\n",
    "This is the process of unpacking the dictionary to columns"
   ]
  },
  {
   "cell_type": "code",
   "execution_count": null,
   "id": "9b06ad2c",
   "metadata": {},
   "outputs": [],
   "source": [
    "## use .apply pd.Series to convert a dict to columns\n",
    "df['coordinates'].apply(pd.Series)"
   ]
  },
  {
   "cell_type": "code",
   "execution_count": null,
   "id": "a09d00b1",
   "metadata": {},
   "outputs": [],
   "source": [
    "## Concatenate the 2 new columns and drop the original.\n"
   ]
  },
  {
   "cell_type": "code",
   "execution_count": null,
   "id": "c66aeebf",
   "metadata": {},
   "outputs": [],
   "source": []
  },
  {
   "cell_type": "markdown",
   "id": "e1b039ee",
   "metadata": {},
   "source": [
    "### Activity -Padlet : Unpacking dictionary"
   ]
  },
  {
   "cell_type": "markdown",
   "id": "dd91c3f7",
   "metadata": {},
   "source": [
    "- https://padlet.com/swhaley9/unpacking-dictionaries-d7mlgygcjtm0s4xs"
   ]
  },
  {
   "cell_type": "markdown",
   "id": "56b25f7a",
   "metadata": {},
   "source": [
    "## Creating a Simple Map"
   ]
  },
  {
   "cell_type": "markdown",
   "id": "73c91d8f",
   "metadata": {},
   "source": [
    "- Mapbox API: https://www.mapbox.com/\n",
    "- Mapbox API Documentation: https://docs.mapbox.com/api/overview/"
   ]
  },
  {
   "cell_type": "markdown",
   "id": "cdb5689c",
   "metadata": {},
   "source": [
    "- Use the plotly express `scatter_mapbox` function"
   ]
  },
  {
   "cell_type": "code",
   "execution_count": null,
   "id": "2214befe",
   "metadata": {},
   "outputs": [],
   "source": [
    "## use scatter_mapbox for map\n"
   ]
  },
  {
   "cell_type": "markdown",
   "id": "d5b72ef0",
   "metadata": {},
   "source": [
    "### Adding Hover Data"
   ]
  },
  {
   "cell_type": "markdown",
   "id": "300eddca",
   "metadata": {},
   "source": [
    "- We want to show the restaurants:\n",
    "    - name\n",
    "    - price range\n",
    "    - rating\n",
    "    - transaction type (delivery/takeout)\n",
    "    - address\n",
    "    \n",
    "    \n",
    "- We can use the `hover_name` and `hover_data` arguments for `px.scatter_mapbox` to add this info!"
   ]
  },
  {
   "cell_type": "code",
   "execution_count": null,
   "id": "e05e4e1b",
   "metadata": {
    "scrolled": true
   },
   "outputs": [],
   "source": [
    "## add hover_name (name) and hover_data for price,rating,location\n"
   ]
  },
  {
   "cell_type": "markdown",
   "id": "09d744ca",
   "metadata": {},
   "source": [
    "### Fixing the Location Column"
   ]
  },
  {
   "cell_type": "code",
   "execution_count": null,
   "id": "15e6afdc",
   "metadata": {},
   "outputs": [],
   "source": [
    "## slice out a test address\n"
   ]
  },
  {
   "cell_type": "markdown",
   "id": "b573de0f",
   "metadata": {},
   "source": [
    "> Also a string-dictionary..."
   ]
  },
  {
   "cell_type": "code",
   "execution_count": null,
   "id": "e5862a23",
   "metadata": {},
   "outputs": [],
   "source": [
    "## replace ' with \"\n",
    "df['location'] = df['location'].str.replace(\"'\", '\"')\n",
    "df"
   ]
  },
  {
   "cell_type": "code",
   "execution_count": null,
   "id": "1606ed4a",
   "metadata": {},
   "outputs": [],
   "source": [
    "## apply json.loads\n"
   ]
  },
  {
   "cell_type": "markdown",
   "id": "6e3fc5c2",
   "metadata": {},
   "source": [
    "> Ruh roh....\n",
    "\n",
    "- Hmm, let's slice out a test_address again and let's write a function to accomplish this instead.\n",
    "    - We can use try and except in our function to get around the errors."
   ]
  },
  {
   "cell_type": "markdown",
   "id": "b0fe3a7a",
   "metadata": {},
   "source": [
    "### Fixing Addresses - with a custom function\n"
   ]
  },
  {
   "cell_type": "code",
   "execution_count": null,
   "id": "b1964520",
   "metadata": {},
   "outputs": [],
   "source": [
    "## slice out test address \n",
    "test_addr = df.loc[0, 'location']\n",
    "test_addr"
   ]
  },
  {
   "cell_type": "code",
   "execution_count": null,
   "id": "89ee686e",
   "metadata": {},
   "outputs": [],
   "source": [
    "## write a function to just run json.loads on the address\n"
   ]
  },
  {
   "cell_type": "code",
   "execution_count": null,
   "id": "0d25f01b",
   "metadata": {},
   "outputs": [],
   "source": [
    "## test applying our function\n"
   ]
  },
  {
   "cell_type": "markdown",
   "id": "c8cbc436",
   "metadata": {},
   "source": [
    "- It worked! Now let's save this as a new column (display_location),\n",
    "and then let's investigate the businesses that had an \"ERROR\"."
   ]
  },
  {
   "cell_type": "code",
   "execution_count": null,
   "id": "49a511e8",
   "metadata": {},
   "outputs": [],
   "source": [
    "### save a new display_location column using our function\n"
   ]
  },
  {
   "cell_type": "code",
   "execution_count": null,
   "id": "346a2869",
   "metadata": {},
   "outputs": [],
   "source": [
    "## filter for businesses with display_location == \"ERROR\"\n"
   ]
  },
  {
   "cell_type": "code",
   "execution_count": null,
   "id": "9c115199",
   "metadata": {},
   "outputs": [],
   "source": [
    "## slice out a new test address and inspect\n",
    "test_addr = df.loc[437, 'location']\n",
    "test_addr"
   ]
  },
  {
   "cell_type": "markdown",
   "id": "448fa8c6",
   "metadata": {},
   "source": [
    "> After some more investigation, we would find a few issues with these \"ERROR\" rows.\n",
    "1. They contained None.\n",
    "2. They contained an apostrophe in the name.\n",
    "3. ...?"
   ]
  },
  {
   "cell_type": "markdown",
   "id": "68a960d4",
   "metadata": {},
   "source": [
    "### Possible Fixes (if we care to/have the time)\n"
   ]
  },
  {
   "cell_type": "markdown",
   "id": "7c21eda1",
   "metadata": {},
   "source": [
    "- Use Regular Expressions to find an fix the display addresses with \"'\" in them\n",
    "- Use string split to split on the word display address.\n",
    "    - Then use string methods to clean up"
   ]
  },
  {
   "cell_type": "markdown",
   "id": "df8d68fb",
   "metadata": {},
   "source": [
    "### Moving Forward without those rows (for now)"
   ]
  },
  {
   "cell_type": "code",
   "execution_count": null,
   "id": "bddbcc87",
   "metadata": {},
   "outputs": [],
   "source": [
    "## remove any rows where display_location == 'ERROR'\n"
   ]
  },
  {
   "cell_type": "markdown",
   "id": "c1338cd2",
   "metadata": {},
   "source": [
    "- We want the \"display_address\" key from the \"display_location\" dictionaries.\n",
    "- We could use a .apply and a lamda to slice out the desired key."
   ]
  },
  {
   "cell_type": "code",
   "execution_count": null,
   "id": "82544b10",
   "metadata": {},
   "outputs": [],
   "source": [
    "## slice out a new test address and inspect\n"
   ]
  },
  {
   "cell_type": "code",
   "execution_count": null,
   "id": "96b7c3d5",
   "metadata": {},
   "outputs": [],
   "source": [
    "## use apply and lambda to slice correct key"
   ]
  },
  {
   "cell_type": "markdown",
   "id": "c65a79ab",
   "metadata": {},
   "source": [
    "- Almost done! We want to convert display_address to a string instead a list of strings.\n",
    "- We can use the string method .join to do so!"
   ]
  },
  {
   "cell_type": "code",
   "execution_count": null,
   "id": "5f64f1dd",
   "metadata": {},
   "outputs": [],
   "source": [
    "## slice out a test_address\n"
   ]
  },
  {
   "cell_type": "code",
   "execution_count": null,
   "id": "876bb98e",
   "metadata": {},
   "outputs": [],
   "source": [
    "## test using .join with a \"\\n\"\n"
   ]
  },
  {
   "cell_type": "code",
   "execution_count": null,
   "id": "55a6176d",
   "metadata": {
    "scrolled": true
   },
   "outputs": [],
   "source": [
    "## apply the join to every row with a lambda\n"
   ]
  },
  {
   "cell_type": "code",
   "execution_count": null,
   "id": "11507096",
   "metadata": {},
   "outputs": [],
   "source": []
  },
  {
   "cell_type": "markdown",
   "id": "51881461",
   "metadata": {},
   "source": [
    "### Lastly, Fixing Transactions Column"
   ]
  },
  {
   "cell_type": "code",
   "execution_count": null,
   "id": "d307784a",
   "metadata": {},
   "outputs": [],
   "source": [
    "# Looking at a test transaction"
   ]
  },
  {
   "cell_type": "code",
   "execution_count": null,
   "id": "2b1dcf1f",
   "metadata": {},
   "outputs": [],
   "source": []
  },
  {
   "cell_type": "markdown",
   "id": "3d47740c",
   "metadata": {},
   "source": [
    "- This is also a string and needs to be converted to a list."
   ]
  },
  {
   "cell_type": "code",
   "execution_count": null,
   "id": "76eb4b05",
   "metadata": {},
   "outputs": [],
   "source": [
    "# Replacing single ' with double \""
   ]
  },
  {
   "cell_type": "code",
   "execution_count": null,
   "id": "6e818b21",
   "metadata": {},
   "outputs": [],
   "source": [
    "# Using json.loads on saved_test"
   ]
  },
  {
   "cell_type": "code",
   "execution_count": null,
   "id": "82cc2b40",
   "metadata": {},
   "outputs": [],
   "source": [
    "# Applying transformations to entire column\n",
    "\n",
    "# Create a new column where the single quotes are replaced with double quotes\n",
    "\n",
    "# Apply json.loads to entire column\n"
   ]
  },
  {
   "cell_type": "code",
   "execution_count": null,
   "id": "7eb4ba44",
   "metadata": {},
   "outputs": [],
   "source": []
  },
  {
   "cell_type": "code",
   "execution_count": null,
   "id": "d7c27d34",
   "metadata": {},
   "outputs": [],
   "source": [
    "# Converting transactions column into a one-hot-encoded column"
   ]
  },
  {
   "cell_type": "code",
   "execution_count": null,
   "id": "ea32c102",
   "metadata": {},
   "outputs": [],
   "source": [
    "# remove NaNs and find unique values"
   ]
  },
  {
   "cell_type": "code",
   "execution_count": null,
   "id": "5365f9e6",
   "metadata": {},
   "outputs": [],
   "source": [
    "# Using a for loop with .str.contains to create new columns"
   ]
  },
  {
   "cell_type": "markdown",
   "id": "09b90087",
   "metadata": {},
   "source": [
    "### Final Map"
   ]
  },
  {
   "cell_type": "code",
   "execution_count": null,
   "id": "0afd236d",
   "metadata": {},
   "outputs": [],
   "source": [
    "## make ourn final map and save as varaible\n"
   ]
  },
  {
   "cell_type": "markdown",
   "id": "47e93ee3",
   "metadata": {},
   "source": [
    "### Saving Final Figure"
   ]
  },
  {
   "cell_type": "code",
   "execution_count": null,
   "id": "79e43699",
   "metadata": {},
   "outputs": [],
   "source": [
    "## use fig.write_html to save map\n"
   ]
  }
 ],
 "metadata": {
  "kernelspec": {
   "display_name": "Python (dojo-env)",
   "language": "python",
   "name": "dojo-env"
  },
  "language_info": {
   "codemirror_mode": {
    "name": "ipython",
    "version": 3
   },
   "file_extension": ".py",
   "mimetype": "text/x-python",
   "name": "python",
   "nbconvert_exporter": "python",
   "pygments_lexer": "ipython3",
   "version": "3.9.15"
  },
  "toc": {
   "base_numbering": 1,
   "nav_menu": {},
   "number_sections": false,
   "sideBar": true,
   "skip_h1_title": false,
   "title_cell": "Table of Contents",
   "title_sidebar": "Contents",
   "toc_cell": false,
   "toc_position": {
    "height": "calc(100% - 180px)",
    "left": "10px",
    "top": "150px",
    "width": "299.195px"
   },
   "toc_section_display": true,
   "toc_window_display": false
  }
 },
 "nbformat": 4,
 "nbformat_minor": 5
}
