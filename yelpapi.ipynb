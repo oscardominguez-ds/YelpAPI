{
 "cells": [
  {
   "cell_type": "code",
   "execution_count": 1,
   "id": "82f6ebad",
   "metadata": {},
   "outputs": [],
   "source": [
    "# Standard Imports\n",
    "import numpy as np\n",
    "import pandas as pd\n",
    "import matplotlib.pyplot as plt\n",
    "import seaborn as sns\n",
    "# Additional Imports\n",
    "import os, json, math, time\n",
    "from yelpapi import YelpAPI\n",
    "from tqdm.notebook import tqdm_notebook\n",
    "\n",
    "with open('/Users/hibye/.secret/yelp_api.json') as f:\n",
    "    login = json.load(f)\n",
    "    login.keys()"
   ]
  },
  {
   "cell_type": "code",
   "execution_count": 2,
   "id": "dae3278d",
   "metadata": {},
   "outputs": [],
   "source": [
    "from yelpapi import YelpAPI\n",
    "yelp_api = YelpAPI(login['api-key'], timeout_s=5.0)\n"
   ]
  },
  {
   "cell_type": "code",
   "execution_count": 3,
   "id": "2218f96b",
   "metadata": {},
   "outputs": [
    {
     "name": "stdout",
     "output_type": "stream",
     "text": [
      "<class 'dict'>\n"
     ]
    },
    {
     "data": {
      "text/plain": [
       "dict_keys(['businesses', 'total', 'region'])"
      ]
     },
     "execution_count": 3,
     "metadata": {},
     "output_type": "execute_result"
    }
   ],
   "source": [
    "# Quick Test Query\n",
    "results = yelp_api.search_query(location='Baltimore, MD',\n",
    "                                       term='Crab Cake')\n",
    "print(type(results))\n",
    "results.keys()\n"
   ]
  },
  {
   "cell_type": "code",
   "execution_count": 4,
   "id": "d11f8d80",
   "metadata": {},
   "outputs": [],
   "source": [
    "\n",
    "# set our API call parameters \n",
    "LOCATION = 'Alqonquin,IL'\n",
    "TERM = 'Pizza'\n"
   ]
  },
  {
   "cell_type": "code",
   "execution_count": 5,
   "id": "f4ee5e1c",
   "metadata": {},
   "outputs": [
    {
     "data": {
      "text/plain": [
       "'Data/results_in_progress_pizza_IL.json'"
      ]
     },
     "execution_count": 5,
     "metadata": {},
     "output_type": "execute_result"
    }
   ],
   "source": [
    "# Specifying JSON_FILE filename (can include a folder)\n",
    "# include the search terms in the filename\n",
    "JSON_FILE = \"Data/results_in_progress_pizza_IL.json\"\n",
    "JSON_FILE\n"
   ]
  },
  {
   "cell_type": "code",
   "execution_count": 6,
   "id": "39336601",
   "metadata": {},
   "outputs": [
    {
     "name": "stdout",
     "output_type": "stream",
     "text": [
      "[i] Data/results_in_progress_pizza_IL.json not found. Saving empty list to file.\n"
     ]
    }
   ],
   "source": [
    "## Check if JSON_FILE exists\n",
    "file_exists = os.path.isfile(JSON_FILE)\n",
    "## If it does not exist: \n",
    "if file_exists == False:\n",
    "    \n",
    "    ## CREATE ANY NEEDED FOLDERS\n",
    "    # Get the Folder Name only\n",
    "    folder = os.path.dirname(JSON_FILE)\n",
    "    ## If JSON_FILE included a folder:\n",
    "    if len(folder)>0:\n",
    "        # create the folder\n",
    "        os.makedirs(folder,exist_ok=True)\n",
    "        \n",
    "        \n",
    "    ## INFORM USER AND SAVE EMPTY LIST\n",
    "    print(f'[i] {JSON_FILE} not found. Saving empty list to file.')\n",
    "    \n",
    "    \n",
    "    # save an empty list\n",
    "    with open(JSON_FILE,'w') as f:\n",
    "        json.dump([],f)  \n",
    "# If it exists, inform user\n",
    "else:\n",
    "    print(f\"[i] {JSON_FILE} already exists.\")\n"
   ]
  },
  {
   "cell_type": "code",
   "execution_count": 7,
   "id": "1569192c",
   "metadata": {},
   "outputs": [
    {
     "name": "stdout",
     "output_type": "stream",
     "text": [
      "- 0 previous results found.\n"
     ]
    }
   ],
   "source": [
    "## Load previous results and use len of results for offset\n",
    "with open(JSON_FILE,'r') as f:\n",
    "    previous_results = json.load(f)\n",
    "    \n",
    "## set offset based on previous results\n",
    "n_results = len(previous_results)\n",
    "print(f'- {n_results} previous results found.')\n",
    "\n"
   ]
  },
  {
   "cell_type": "code",
   "execution_count": 8,
   "id": "69bd17a0",
   "metadata": {},
   "outputs": [
    {
     "data": {
      "text/plain": [
       "dict_keys(['businesses', 'total', 'region'])"
      ]
     },
     "execution_count": 8,
     "metadata": {},
     "output_type": "execute_result"
    }
   ],
   "source": [
    "# use our yelp_api variable's search_query method to perform our API call\n",
    "results = yelp_api.search_query(location=LOCATION,\n",
    "                                term=TERM,\n",
    "                               offset=n_results)\n",
    "results.keys()"
   ]
  },
  {
   "cell_type": "code",
   "execution_count": 9,
   "id": "8b879bbd",
   "metadata": {},
   "outputs": [
    {
     "data": {
      "text/plain": [
       "377"
      ]
     },
     "execution_count": 9,
     "metadata": {},
     "output_type": "execute_result"
    }
   ],
   "source": [
    "## How many results total?\n",
    "total_results = results['total']\n",
    "total_results"
   ]
  },
  {
   "cell_type": "code",
   "execution_count": 10,
   "id": "0c7d501b",
   "metadata": {},
   "outputs": [
    {
     "data": {
      "text/plain": [
       "20"
      ]
     },
     "execution_count": 10,
     "metadata": {},
     "output_type": "execute_result"
    }
   ],
   "source": [
    "## How many did we get the details for?\n",
    "results_per_page = len(results['businesses'])\n",
    "results_per_page"
   ]
  },
  {
   "cell_type": "code",
   "execution_count": 11,
   "id": "c93a251a",
   "metadata": {},
   "outputs": [
    {
     "data": {
      "text/plain": [
       "19"
      ]
     },
     "execution_count": 11,
     "metadata": {},
     "output_type": "execute_result"
    }
   ],
   "source": [
    "# Import additional packages for controlling our loop\n",
    "import time, math\n",
    "# Use math.ceil to round up for the total number of pages of results.\n",
    "n_pages = math.ceil((results['total']-n_results)/ results_per_page)\n",
    "n_pages\n",
    "\n"
   ]
  },
  {
   "cell_type": "code",
   "execution_count": 12,
   "id": "1f3456c3",
   "metadata": {},
   "outputs": [],
   "source": [
    "# join new results with old list with extend and save to file\n",
    "previous_results.extend(results['businesses'])  \n",
    "with open(JSON_FILE,'w') as f:\n",
    "     json.dump(previous_results,f)\n"
   ]
  },
  {
   "cell_type": "code",
   "execution_count": 13,
   "id": "6e91dd1d",
   "metadata": {},
   "outputs": [
    {
     "data": {
      "application/vnd.jupyter.widget-view+json": {
       "model_id": "3bee9a41ce2b42a5b36363c15260fcc7",
       "version_major": 2,
       "version_minor": 0
      },
      "text/plain": [
       "  0%|          | 0/19 [00:00<?, ?it/s]"
      ]
     },
     "metadata": {},
     "output_type": "display_data"
    }
   ],
   "source": [
    "from tqdm.notebook import tqdm_notebook\n",
    "import time\n",
    "for i in tqdm_notebook(range(n_pages)):\n",
    "    # adds 200 ms pause\n",
    "    time.sleep(.2) \n"
   ]
  },
  {
   "cell_type": "code",
   "execution_count": 14,
   "id": "1a56935b",
   "metadata": {},
   "outputs": [
    {
     "data": {
      "text/plain": [
       "True"
      ]
     },
     "execution_count": 14,
     "metadata": {},
     "output_type": "execute_result"
    }
   ],
   "source": [
    "os.path.isfile(JSON_FILE)"
   ]
  },
  {
   "cell_type": "code",
   "execution_count": 15,
   "id": "f2443444",
   "metadata": {},
   "outputs": [
    {
     "name": "stdout",
     "output_type": "stream",
     "text": [
      "[i] Data/results_in_progress_pizza_IL.json not found. Saving empty list to new file.\n"
     ]
    }
   ],
   "source": [
    "def create_json_file(JSON_FILE,  delete_if_exists=False):\n",
    "    \n",
    "## Check if JSON_FILE exists\n",
    "    file_exists = os.path.isfile(JSON_FILE)\n",
    "    \n",
    "## If it DOES exist:\n",
    "if file_exists == True:\n",
    "        \n",
    "    ## Check if user wants to delete if exists\n",
    "    if delete_if_exists==True:\n",
    "            \n",
    "        print(f\"[!] {JSON_FILE} already exists. Deleting previous file...\")\n",
    "        ## delete file and confirm it no longer exits.\n",
    "        os.remove(JSON_FILE)\n",
    "## Recursive call to function after old file deleted\n",
    "        create_json_file(JSON_FILE,delete_if_exists=False)\n",
    "    else:\n",
    "        print(f\"[i] {JSON_FILE} already exists.\")            \n",
    "            \n",
    "            \n",
    "## If it does NOT exist:\n",
    "else:\n",
    "        \n",
    "    ## INFORM USER AND SAVE EMPTY LIST\n",
    "    print(f\"[i] {JSON_FILE} not found. Saving empty list to new file.\")\n",
    "        ## CREATE ANY NEEDED FOLDERS\n",
    "        # Get the Folder Name only\n",
    "    folder = os.path.dirname(JSON_FILE)\n",
    "        \n",
    "        ## If JSON_FILE included a folder:\n",
    "    if len(folder)>0:\n",
    "        # create the folder\n",
    "        os.makedirs(folder,exist_ok=True)\n",
    "        ## Save empty list to start the json file\n",
    "    with open(JSON_FILE,'w') as f:\n",
    "        json.dump([],f)  \n"
   ]
  },
  {
   "cell_type": "code",
   "execution_count": 18,
   "id": "8e349e16",
   "metadata": {},
   "outputs": [
    {
     "data": {
      "application/vnd.jupyter.widget-view+json": {
       "model_id": "ede3c8d3ceb14bcfad99580aaf90f92c",
       "version_major": 2,
       "version_minor": 0
      },
      "text/plain": [
       "  0%|          | 0/19 [00:00<?, ?it/s]"
      ]
     },
     "metadata": {},
     "output_type": "display_data"
    }
   ],
   "source": [
    "for i in tqdm_notebook( range(1,n_pages+1)):\n",
    "    \n",
    "    ## Read in results in progress file and check the length\n",
    "    with open(JSON_FILE, 'r') as f:\n",
    "        previous_results = json.load(f)\n",
    "    ## save number of results for to use as offset\n",
    "    n_results = len(previous_results)\n",
    "    ## use n_results as the OFFSET \n",
    "    results = yelp_api.search_query(location=LOCATION,\n",
    "                                    term=TERM, \n",
    "                                    offset=n_results)\n",
    "    \n",
    "    ## append new results and save to file\n",
    "    previous_results.extend(results['businesses'])\n",
    "    \n",
    "    with open(JSON_FILE,'w') as f:\n",
    "        json.dump(previous_results,f)\n",
    "    \n",
    "    # add a 200ms pause\n",
    "    time.sleep(.2)\n"
   ]
  },
  {
   "cell_type": "code",
   "execution_count": 19,
   "id": "bfafe104",
   "metadata": {},
   "outputs": [
    {
     "data": {
      "text/html": [
       "<div>\n",
       "<style scoped>\n",
       "    .dataframe tbody tr th:only-of-type {\n",
       "        vertical-align: middle;\n",
       "    }\n",
       "\n",
       "    .dataframe tbody tr th {\n",
       "        vertical-align: top;\n",
       "    }\n",
       "\n",
       "    .dataframe thead th {\n",
       "        text-align: right;\n",
       "    }\n",
       "</style>\n",
       "<table border=\"1\" class=\"dataframe\">\n",
       "  <thead>\n",
       "    <tr style=\"text-align: right;\">\n",
       "      <th></th>\n",
       "      <th>id</th>\n",
       "      <th>alias</th>\n",
       "      <th>name</th>\n",
       "      <th>image_url</th>\n",
       "      <th>is_closed</th>\n",
       "      <th>url</th>\n",
       "      <th>review_count</th>\n",
       "      <th>categories</th>\n",
       "      <th>rating</th>\n",
       "      <th>coordinates</th>\n",
       "      <th>transactions</th>\n",
       "      <th>location</th>\n",
       "      <th>phone</th>\n",
       "      <th>display_phone</th>\n",
       "      <th>distance</th>\n",
       "      <th>price</th>\n",
       "    </tr>\n",
       "  </thead>\n",
       "  <tbody>\n",
       "    <tr>\n",
       "      <th>0</th>\n",
       "      <td>ULg5fU6JTOCx4va9eUpjTQ</td>\n",
       "      <td>pizza-pushers-algonquin</td>\n",
       "      <td>Pizza Pushers</td>\n",
       "      <td>https://s3-media1.fl.yelpcdn.com/bphoto/Cs5k7Y...</td>\n",
       "      <td>False</td>\n",
       "      <td>https://www.yelp.com/biz/pizza-pushers-algonqu...</td>\n",
       "      <td>21</td>\n",
       "      <td>[{'alias': 'pizza', 'title': 'Pizza'}]</td>\n",
       "      <td>4.5</td>\n",
       "      <td>{'latitude': 42.16317, 'longitude': -88.29628}</td>\n",
       "      <td>[]</td>\n",
       "      <td>{'address1': '644 S Main St', 'address2': '', ...</td>\n",
       "      <td></td>\n",
       "      <td></td>\n",
       "      <td>1826.303215</td>\n",
       "      <td>NaN</td>\n",
       "    </tr>\n",
       "    <tr>\n",
       "      <th>1</th>\n",
       "      <td>4pCvjmcFZMyPUIBqWsls2A</td>\n",
       "      <td>sals-pizza-company-algonquin</td>\n",
       "      <td>Sal's Pizza Company</td>\n",
       "      <td>https://s3-media2.fl.yelpcdn.com/bphoto/X5SBNj...</td>\n",
       "      <td>False</td>\n",
       "      <td>https://www.yelp.com/biz/sals-pizza-company-al...</td>\n",
       "      <td>208</td>\n",
       "      <td>[{'alias': 'pizza', 'title': 'Pizza'}]</td>\n",
       "      <td>4.5</td>\n",
       "      <td>{'latitude': 42.176214, 'longitude': -88.31533}</td>\n",
       "      <td>[delivery]</td>\n",
       "      <td>{'address1': '5 Hanson Rd', 'address2': '', 'a...</td>\n",
       "      <td>+18476587272</td>\n",
       "      <td>(847) 658-7272</td>\n",
       "      <td>1451.881180</td>\n",
       "      <td>$$</td>\n",
       "    </tr>\n",
       "    <tr>\n",
       "      <th>2</th>\n",
       "      <td>2Hzt_Z8SXBsDiOu2vWP0Kg</td>\n",
       "      <td>uncle-jerry-s-pizza-company-cary</td>\n",
       "      <td>Uncle Jerry’s Pizza Company</td>\n",
       "      <td>https://s3-media2.fl.yelpcdn.com/bphoto/8Jlb3l...</td>\n",
       "      <td>False</td>\n",
       "      <td>https://www.yelp.com/biz/uncle-jerry-s-pizza-c...</td>\n",
       "      <td>106</td>\n",
       "      <td>[{'alias': 'pizza', 'title': 'Pizza'}]</td>\n",
       "      <td>4.5</td>\n",
       "      <td>{'latitude': 42.20837, 'longitude': -88.24259}</td>\n",
       "      <td>[]</td>\n",
       "      <td>{'address1': '133 W Main St', 'address2': '', ...</td>\n",
       "      <td>+12248888663</td>\n",
       "      <td>(224) 888-8663</td>\n",
       "      <td>8016.547087</td>\n",
       "      <td>$$</td>\n",
       "    </tr>\n",
       "    <tr>\n",
       "      <th>3</th>\n",
       "      <td>CftHLAdJj63kAVxYQDZehQ</td>\n",
       "      <td>dinos-pizza-and-pasta-lake-in-the-hills</td>\n",
       "      <td>Dino's Pizza &amp; Pasta</td>\n",
       "      <td>https://s3-media3.fl.yelpcdn.com/bphoto/bpeElv...</td>\n",
       "      <td>False</td>\n",
       "      <td>https://www.yelp.com/biz/dinos-pizza-and-pasta...</td>\n",
       "      <td>67</td>\n",
       "      <td>[{'alias': 'pizza', 'title': 'Pizza'}, {'alias...</td>\n",
       "      <td>4.0</td>\n",
       "      <td>{'latitude': 42.190623, 'longitude': -88.331221}</td>\n",
       "      <td>[pickup, delivery]</td>\n",
       "      <td>{'address1': '6 Miller Rd', 'address2': '', 'a...</td>\n",
       "      <td>+18476583300</td>\n",
       "      <td>(847) 658-3300</td>\n",
       "      <td>3210.464471</td>\n",
       "      <td>$</td>\n",
       "    </tr>\n",
       "    <tr>\n",
       "      <th>4</th>\n",
       "      <td>sYwBAWlDCRe582S4ZfgKQg</td>\n",
       "      <td>woodfire-dundee-west-dundee-2</td>\n",
       "      <td>Woodfire Dundee</td>\n",
       "      <td>https://s3-media2.fl.yelpcdn.com/bphoto/UQrsVC...</td>\n",
       "      <td>False</td>\n",
       "      <td>https://www.yelp.com/biz/woodfire-dundee-west-...</td>\n",
       "      <td>130</td>\n",
       "      <td>[{'alias': 'pizza', 'title': 'Pizza'}, {'alias...</td>\n",
       "      <td>4.5</td>\n",
       "      <td>{'latitude': 42.0979661656296, 'longitude': -8...</td>\n",
       "      <td>[delivery]</td>\n",
       "      <td>{'address1': '127 W Main St', 'address2': '', ...</td>\n",
       "      <td>+18478440886</td>\n",
       "      <td>(847) 844-0886</td>\n",
       "      <td>7987.399488</td>\n",
       "      <td>$$</td>\n",
       "    </tr>\n",
       "  </tbody>\n",
       "</table>\n",
       "</div>"
      ],
      "text/plain": [
       "                       id                                    alias  \\\n",
       "0  ULg5fU6JTOCx4va9eUpjTQ                  pizza-pushers-algonquin   \n",
       "1  4pCvjmcFZMyPUIBqWsls2A             sals-pizza-company-algonquin   \n",
       "2  2Hzt_Z8SXBsDiOu2vWP0Kg         uncle-jerry-s-pizza-company-cary   \n",
       "3  CftHLAdJj63kAVxYQDZehQ  dinos-pizza-and-pasta-lake-in-the-hills   \n",
       "4  sYwBAWlDCRe582S4ZfgKQg            woodfire-dundee-west-dundee-2   \n",
       "\n",
       "                          name  \\\n",
       "0                Pizza Pushers   \n",
       "1          Sal's Pizza Company   \n",
       "2  Uncle Jerry’s Pizza Company   \n",
       "3         Dino's Pizza & Pasta   \n",
       "4              Woodfire Dundee   \n",
       "\n",
       "                                           image_url  is_closed  \\\n",
       "0  https://s3-media1.fl.yelpcdn.com/bphoto/Cs5k7Y...      False   \n",
       "1  https://s3-media2.fl.yelpcdn.com/bphoto/X5SBNj...      False   \n",
       "2  https://s3-media2.fl.yelpcdn.com/bphoto/8Jlb3l...      False   \n",
       "3  https://s3-media3.fl.yelpcdn.com/bphoto/bpeElv...      False   \n",
       "4  https://s3-media2.fl.yelpcdn.com/bphoto/UQrsVC...      False   \n",
       "\n",
       "                                                 url  review_count  \\\n",
       "0  https://www.yelp.com/biz/pizza-pushers-algonqu...            21   \n",
       "1  https://www.yelp.com/biz/sals-pizza-company-al...           208   \n",
       "2  https://www.yelp.com/biz/uncle-jerry-s-pizza-c...           106   \n",
       "3  https://www.yelp.com/biz/dinos-pizza-and-pasta...            67   \n",
       "4  https://www.yelp.com/biz/woodfire-dundee-west-...           130   \n",
       "\n",
       "                                          categories  rating  \\\n",
       "0             [{'alias': 'pizza', 'title': 'Pizza'}]     4.5   \n",
       "1             [{'alias': 'pizza', 'title': 'Pizza'}]     4.5   \n",
       "2             [{'alias': 'pizza', 'title': 'Pizza'}]     4.5   \n",
       "3  [{'alias': 'pizza', 'title': 'Pizza'}, {'alias...     4.0   \n",
       "4  [{'alias': 'pizza', 'title': 'Pizza'}, {'alias...     4.5   \n",
       "\n",
       "                                         coordinates        transactions  \\\n",
       "0     {'latitude': 42.16317, 'longitude': -88.29628}                  []   \n",
       "1    {'latitude': 42.176214, 'longitude': -88.31533}          [delivery]   \n",
       "2     {'latitude': 42.20837, 'longitude': -88.24259}                  []   \n",
       "3   {'latitude': 42.190623, 'longitude': -88.331221}  [pickup, delivery]   \n",
       "4  {'latitude': 42.0979661656296, 'longitude': -8...          [delivery]   \n",
       "\n",
       "                                            location         phone  \\\n",
       "0  {'address1': '644 S Main St', 'address2': '', ...                 \n",
       "1  {'address1': '5 Hanson Rd', 'address2': '', 'a...  +18476587272   \n",
       "2  {'address1': '133 W Main St', 'address2': '', ...  +12248888663   \n",
       "3  {'address1': '6 Miller Rd', 'address2': '', 'a...  +18476583300   \n",
       "4  {'address1': '127 W Main St', 'address2': '', ...  +18478440886   \n",
       "\n",
       "    display_phone     distance price  \n",
       "0                  1826.303215   NaN  \n",
       "1  (847) 658-7272  1451.881180    $$  \n",
       "2  (224) 888-8663  8016.547087    $$  \n",
       "3  (847) 658-3300  3210.464471     $  \n",
       "4  (847) 844-0886  7987.399488    $$  "
      ]
     },
     "metadata": {},
     "output_type": "display_data"
    },
    {
     "data": {
      "text/html": [
       "<div>\n",
       "<style scoped>\n",
       "    .dataframe tbody tr th:only-of-type {\n",
       "        vertical-align: middle;\n",
       "    }\n",
       "\n",
       "    .dataframe tbody tr th {\n",
       "        vertical-align: top;\n",
       "    }\n",
       "\n",
       "    .dataframe thead th {\n",
       "        text-align: right;\n",
       "    }\n",
       "</style>\n",
       "<table border=\"1\" class=\"dataframe\">\n",
       "  <thead>\n",
       "    <tr style=\"text-align: right;\">\n",
       "      <th></th>\n",
       "      <th>id</th>\n",
       "      <th>alias</th>\n",
       "      <th>name</th>\n",
       "      <th>image_url</th>\n",
       "      <th>is_closed</th>\n",
       "      <th>url</th>\n",
       "      <th>review_count</th>\n",
       "      <th>categories</th>\n",
       "      <th>rating</th>\n",
       "      <th>coordinates</th>\n",
       "      <th>transactions</th>\n",
       "      <th>location</th>\n",
       "      <th>phone</th>\n",
       "      <th>display_phone</th>\n",
       "      <th>distance</th>\n",
       "      <th>price</th>\n",
       "    </tr>\n",
       "  </thead>\n",
       "  <tbody>\n",
       "    <tr>\n",
       "      <th>372</th>\n",
       "      <td>DTc25oxDLvxJeV3wWWyFZQ</td>\n",
       "      <td>chilis-streamwood-3</td>\n",
       "      <td>Chili's</td>\n",
       "      <td>https://s3-media2.fl.yelpcdn.com/bphoto/0bqITS...</td>\n",
       "      <td>False</td>\n",
       "      <td>https://www.yelp.com/biz/chilis-streamwood-3?a...</td>\n",
       "      <td>82</td>\n",
       "      <td>[{'alias': 'tex-mex', 'title': 'Tex-Mex'}, {'a...</td>\n",
       "      <td>3.0</td>\n",
       "      <td>{'latitude': 42.015895470264, 'longitude': -88...</td>\n",
       "      <td>[pickup, delivery]</td>\n",
       "      <td>{'address1': '1041 Sutton Rd', 'address2': Non...</td>\n",
       "      <td>+16304832352</td>\n",
       "      <td>(630) 483-2352</td>\n",
       "      <td>18984.729695</td>\n",
       "      <td>$$</td>\n",
       "    </tr>\n",
       "    <tr>\n",
       "      <th>373</th>\n",
       "      <td>BAdDevvE7YYAdMe0BwSXtA</td>\n",
       "      <td>arbys-streamwood</td>\n",
       "      <td>Arby's</td>\n",
       "      <td>https://s3-media4.fl.yelpcdn.com/bphoto/TfsNxG...</td>\n",
       "      <td>False</td>\n",
       "      <td>https://www.yelp.com/biz/arbys-streamwood?adju...</td>\n",
       "      <td>21</td>\n",
       "      <td>[{'alias': 'hotdogs', 'title': 'Fast Food'}, {...</td>\n",
       "      <td>3.0</td>\n",
       "      <td>{'latitude': 42.0214042663574, 'longitude': -8...</td>\n",
       "      <td>[pickup, delivery]</td>\n",
       "      <td>{'address1': '520 S Sutton Rd', 'address2': No...</td>\n",
       "      <td>+16304979109</td>\n",
       "      <td>(630) 497-9109</td>\n",
       "      <td>18413.883793</td>\n",
       "      <td>$</td>\n",
       "    </tr>\n",
       "    <tr>\n",
       "      <th>374</th>\n",
       "      <td>PmEmQoPGkQKvd7B6JdCmpQ</td>\n",
       "      <td>taco-bell-elgin-3</td>\n",
       "      <td>Taco Bell</td>\n",
       "      <td>https://s3-media2.fl.yelpcdn.com/bphoto/y8XHZD...</td>\n",
       "      <td>False</td>\n",
       "      <td>https://www.yelp.com/biz/taco-bell-elgin-3?adj...</td>\n",
       "      <td>25</td>\n",
       "      <td>[{'alias': 'mexican', 'title': 'Mexican'}, {'a...</td>\n",
       "      <td>2.0</td>\n",
       "      <td>{'latitude': 42.023532, 'longitude': -88.311785}</td>\n",
       "      <td>[pickup, delivery]</td>\n",
       "      <td>{'address1': '304 South McLean Blvd', 'address...</td>\n",
       "      <td>+18476080842</td>\n",
       "      <td>(847) 608-0842</td>\n",
       "      <td>15557.446433</td>\n",
       "      <td>$</td>\n",
       "    </tr>\n",
       "    <tr>\n",
       "      <th>375</th>\n",
       "      <td>es-46dK1zT2kYV6V-BfzxQ</td>\n",
       "      <td>apple-villa-cafe-hoffman-estates</td>\n",
       "      <td>Apple Villa Cafe</td>\n",
       "      <td>https://s3-media4.fl.yelpcdn.com/bphoto/zaI92C...</td>\n",
       "      <td>False</td>\n",
       "      <td>https://www.yelp.com/biz/apple-villa-cafe-hoff...</td>\n",
       "      <td>230</td>\n",
       "      <td>[{'alias': 'breakfast_brunch', 'title': 'Break...</td>\n",
       "      <td>3.5</td>\n",
       "      <td>{'latitude': 42.079257, 'longitude': -88.140138}</td>\n",
       "      <td>[pickup, delivery]</td>\n",
       "      <td>{'address1': '3101 N Barrington Rd', 'address2...</td>\n",
       "      <td>+18477652000</td>\n",
       "      <td>(847) 765-2000</td>\n",
       "      <td>17424.771196</td>\n",
       "      <td>$$</td>\n",
       "    </tr>\n",
       "    <tr>\n",
       "      <th>376</th>\n",
       "      <td>O5ZltApu7Xq7umLZ4pXCTg</td>\n",
       "      <td>golden-corral-buffet-and-grill-elgin</td>\n",
       "      <td>Golden Corral Buffet &amp; Grill</td>\n",
       "      <td>https://s3-media4.fl.yelpcdn.com/bphoto/ICq_0O...</td>\n",
       "      <td>False</td>\n",
       "      <td>https://www.yelp.com/biz/golden-corral-buffet-...</td>\n",
       "      <td>91</td>\n",
       "      <td>[{'alias': 'buffets', 'title': 'Buffets'}, {'a...</td>\n",
       "      <td>2.0</td>\n",
       "      <td>{'latitude': 42.0193983926583, 'longitude': -8...</td>\n",
       "      <td>[pickup, delivery]</td>\n",
       "      <td>{'address1': '601 S Randall Rd', 'address2': '...</td>\n",
       "      <td>+18475317277</td>\n",
       "      <td>(847) 531-7277</td>\n",
       "      <td>16073.849143</td>\n",
       "      <td>$$</td>\n",
       "    </tr>\n",
       "  </tbody>\n",
       "</table>\n",
       "</div>"
      ],
      "text/plain": [
       "                         id                                 alias  \\\n",
       "372  DTc25oxDLvxJeV3wWWyFZQ                   chilis-streamwood-3   \n",
       "373  BAdDevvE7YYAdMe0BwSXtA                      arbys-streamwood   \n",
       "374  PmEmQoPGkQKvd7B6JdCmpQ                     taco-bell-elgin-3   \n",
       "375  es-46dK1zT2kYV6V-BfzxQ      apple-villa-cafe-hoffman-estates   \n",
       "376  O5ZltApu7Xq7umLZ4pXCTg  golden-corral-buffet-and-grill-elgin   \n",
       "\n",
       "                             name  \\\n",
       "372                       Chili's   \n",
       "373                        Arby's   \n",
       "374                     Taco Bell   \n",
       "375              Apple Villa Cafe   \n",
       "376  Golden Corral Buffet & Grill   \n",
       "\n",
       "                                             image_url  is_closed  \\\n",
       "372  https://s3-media2.fl.yelpcdn.com/bphoto/0bqITS...      False   \n",
       "373  https://s3-media4.fl.yelpcdn.com/bphoto/TfsNxG...      False   \n",
       "374  https://s3-media2.fl.yelpcdn.com/bphoto/y8XHZD...      False   \n",
       "375  https://s3-media4.fl.yelpcdn.com/bphoto/zaI92C...      False   \n",
       "376  https://s3-media4.fl.yelpcdn.com/bphoto/ICq_0O...      False   \n",
       "\n",
       "                                                   url  review_count  \\\n",
       "372  https://www.yelp.com/biz/chilis-streamwood-3?a...            82   \n",
       "373  https://www.yelp.com/biz/arbys-streamwood?adju...            21   \n",
       "374  https://www.yelp.com/biz/taco-bell-elgin-3?adj...            25   \n",
       "375  https://www.yelp.com/biz/apple-villa-cafe-hoff...           230   \n",
       "376  https://www.yelp.com/biz/golden-corral-buffet-...            91   \n",
       "\n",
       "                                            categories  rating  \\\n",
       "372  [{'alias': 'tex-mex', 'title': 'Tex-Mex'}, {'a...     3.0   \n",
       "373  [{'alias': 'hotdogs', 'title': 'Fast Food'}, {...     3.0   \n",
       "374  [{'alias': 'mexican', 'title': 'Mexican'}, {'a...     2.0   \n",
       "375  [{'alias': 'breakfast_brunch', 'title': 'Break...     3.5   \n",
       "376  [{'alias': 'buffets', 'title': 'Buffets'}, {'a...     2.0   \n",
       "\n",
       "                                           coordinates        transactions  \\\n",
       "372  {'latitude': 42.015895470264, 'longitude': -88...  [pickup, delivery]   \n",
       "373  {'latitude': 42.0214042663574, 'longitude': -8...  [pickup, delivery]   \n",
       "374   {'latitude': 42.023532, 'longitude': -88.311785}  [pickup, delivery]   \n",
       "375   {'latitude': 42.079257, 'longitude': -88.140138}  [pickup, delivery]   \n",
       "376  {'latitude': 42.0193983926583, 'longitude': -8...  [pickup, delivery]   \n",
       "\n",
       "                                              location         phone  \\\n",
       "372  {'address1': '1041 Sutton Rd', 'address2': Non...  +16304832352   \n",
       "373  {'address1': '520 S Sutton Rd', 'address2': No...  +16304979109   \n",
       "374  {'address1': '304 South McLean Blvd', 'address...  +18476080842   \n",
       "375  {'address1': '3101 N Barrington Rd', 'address2...  +18477652000   \n",
       "376  {'address1': '601 S Randall Rd', 'address2': '...  +18475317277   \n",
       "\n",
       "      display_phone      distance price  \n",
       "372  (630) 483-2352  18984.729695    $$  \n",
       "373  (630) 497-9109  18413.883793     $  \n",
       "374  (847) 608-0842  15557.446433     $  \n",
       "375  (847) 765-2000  17424.771196    $$  \n",
       "376  (847) 531-7277  16073.849143    $$  "
      ]
     },
     "metadata": {},
     "output_type": "display_data"
    }
   ],
   "source": [
    "# load final results\n",
    "final_df = pd.read_json(JSON_FILE)\n",
    "display(final_df.head(), final_df.tail())\n"
   ]
  },
  {
   "cell_type": "code",
   "execution_count": 20,
   "id": "b42dec99",
   "metadata": {},
   "outputs": [
    {
     "data": {
      "text/plain": [
       "0"
      ]
     },
     "execution_count": 20,
     "metadata": {},
     "output_type": "execute_result"
    }
   ],
   "source": [
    "# check for duplicate ID's \n",
    "final_df.duplicated(subset='id').sum()"
   ]
  },
  {
   "cell_type": "code",
   "execution_count": 23,
   "id": "fb6453ff",
   "metadata": {},
   "outputs": [],
   "source": [
    "# save the final results to a compressed csv\n",
    "final_df.to_csv('Data/final_results_IL_pizza.csv.gz', compression='gzip',index=False)"
   ]
  },
  {
   "cell_type": "code",
   "execution_count": null,
   "id": "94676fee",
   "metadata": {},
   "outputs": [],
   "source": [
    "\n"
   ]
  }
 ],
 "metadata": {
  "kernelspec": {
   "display_name": "Python (dojo-env)",
   "language": "python",
   "name": "dojo-env"
  },
  "language_info": {
   "codemirror_mode": {
    "name": "ipython",
    "version": 3
   },
   "file_extension": ".py",
   "mimetype": "text/x-python",
   "name": "python",
   "nbconvert_exporter": "python",
   "pygments_lexer": "ipython3",
   "version": "3.9.15"
  },
  "toc": {
   "base_numbering": 1,
   "nav_menu": {},
   "number_sections": true,
   "sideBar": true,
   "skip_h1_title": false,
   "title_cell": "Table of Contents",
   "title_sidebar": "Contents",
   "toc_cell": false,
   "toc_position": {},
   "toc_section_display": true,
   "toc_window_display": false
  }
 },
 "nbformat": 4,
 "nbformat_minor": 5
}
